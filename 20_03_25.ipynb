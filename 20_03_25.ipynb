{
  "nbformat": 4,
  "nbformat_minor": 0,
  "metadata": {
    "colab": {
      "provenance": [],
      "authorship_tag": "ABX9TyOtaDxHpozQv3P7KBxmIDXt",
      "include_colab_link": true
    },
    "kernelspec": {
      "name": "python3",
      "display_name": "Python 3"
    },
    "language_info": {
      "name": "python"
    }
  },
  "cells": [
    {
      "cell_type": "markdown",
      "metadata": {
        "id": "view-in-github",
        "colab_type": "text"
      },
      "source": [
        "<a href=\"https://colab.research.google.com/github/SaulPichardo/python_THC/blob/main/20_03_25.ipynb\" target=\"_parent\"><img src=\"https://colab.research.google.com/assets/colab-badge.svg\" alt=\"Open In Colab\"/></a>"
      ]
    },
    {
      "cell_type": "markdown",
      "source": [
        "LISTAS\n",
        "Se declaran con [] y permiten flotantes, enteros, cadenas o booleanos,"
      ],
      "metadata": {
        "id": "K_Nvwj4Q6-oD"
      }
    },
    {
      "cell_type": "code",
      "source": [
        "frutas=['kiwi', 'manzana', 'sandia','banana']\n",
        "print(type(frutas))"
      ],
      "metadata": {
        "colab": {
          "base_uri": "https://localhost:8080/"
        },
        "id": "3J5YHzMU7H4g",
        "outputId": "348b11d3-16eb-464a-a1d5-66226afa3a94"
      },
      "execution_count": 13,
      "outputs": [
        {
          "output_type": "stream",
          "name": "stdout",
          "text": [
            "<class 'list'>\n"
          ]
        }
      ]
    },
    {
      "cell_type": "code",
      "source": [
        "frutas[1]='uva'\n",
        "print(frutas)"
      ],
      "metadata": {
        "colab": {
          "base_uri": "https://localhost:8080/"
        },
        "id": "Ca29e8B78Jg5",
        "outputId": "bcac729e-3d95-4c19-f66c-33888f7e2742"
      },
      "execution_count": 16,
      "outputs": [
        {
          "output_type": "stream",
          "name": "stdout",
          "text": [
            "['uva', 'uva', 'banana']\n"
          ]
        }
      ]
    },
    {
      "cell_type": "code",
      "source": [
        "frutas.remove('kiwi')\n",
        "print(frutas)"
      ],
      "metadata": {
        "colab": {
          "base_uri": "https://localhost:8080/"
        },
        "id": "NAfrD9iI7nNQ",
        "outputId": "ecb2138d-d7d6-426e-d1e8-382ad83cc692"
      },
      "execution_count": 15,
      "outputs": [
        {
          "output_type": "stream",
          "name": "stdout",
          "text": [
            "['uva', 'sandia', 'banana']\n"
          ]
        }
      ]
    },
    {
      "cell_type": "code",
      "source": [
        "frutas[-1]"
      ],
      "metadata": {
        "colab": {
          "base_uri": "https://localhost:8080/",
          "height": 36
        },
        "id": "6SMbvH-38g6c",
        "outputId": "64915ffe-8596-44c1-e8d3-d7f4f407c1a7"
      },
      "execution_count": 17,
      "outputs": [
        {
          "output_type": "execute_result",
          "data": {
            "text/plain": [
              "'banana'"
            ],
            "application/vnd.google.colaboratory.intrinsic+json": {
              "type": "string"
            }
          },
          "metadata": {},
          "execution_count": 17
        }
      ]
    },
    {
      "cell_type": "code",
      "source": [
        "len(frutas)"
      ],
      "metadata": {
        "colab": {
          "base_uri": "https://localhost:8080/"
        },
        "id": "w8Yqw8Yv80K4",
        "outputId": "f853f943-14a1-4d41-f061-f78ce5bbcd61"
      },
      "execution_count": 18,
      "outputs": [
        {
          "output_type": "execute_result",
          "data": {
            "text/plain": [
              "3"
            ]
          },
          "metadata": {},
          "execution_count": 18
        }
      ]
    },
    {
      "cell_type": "code",
      "source": [
        "frutas[len(frutas)-1]"
      ],
      "metadata": {
        "colab": {
          "base_uri": "https://localhost:8080/",
          "height": 36
        },
        "id": "QdsXkcXZ9Bry",
        "outputId": "5e9ce06b-0ecc-4369-d33e-535eecca115f"
      },
      "execution_count": 22,
      "outputs": [
        {
          "output_type": "execute_result",
          "data": {
            "text/plain": [
              "'banana'"
            ],
            "application/vnd.google.colaboratory.intrinsic+json": {
              "type": "string"
            }
          },
          "metadata": {},
          "execution_count": 22
        }
      ]
    },
    {
      "cell_type": "code",
      "source": [
        "frutas.append('naranja')\n",
        "frutas"
      ],
      "metadata": {
        "colab": {
          "base_uri": "https://localhost:8080/"
        },
        "id": "t-SZa9Jv98KP",
        "outputId": "6302b804-297c-45c1-acbe-c2dfdca21490"
      },
      "execution_count": 51,
      "outputs": [
        {
          "output_type": "execute_result",
          "data": {
            "text/plain": [
              "['uva', 'uva', 'banana', 'naranja']"
            ]
          },
          "metadata": {},
          "execution_count": 51
        }
      ]
    },
    {
      "cell_type": "code",
      "source": [
        "frutas2 = ['manzana','banana','naranja', 'kiwi']\n",
        "for Char in frutas2:\n",
        "    print(Char)"
      ],
      "metadata": {
        "colab": {
          "base_uri": "https://localhost:8080/"
        },
        "id": "VBqS1ZcfBEbD",
        "outputId": "82e8652f-8d70-4ed8-810b-edaabeaebe30"
      },
      "execution_count": 52,
      "outputs": [
        {
          "output_type": "stream",
          "name": "stdout",
          "text": [
            "manzana\n",
            "banana\n",
            "naranja\n",
            "kiwi\n"
          ]
        }
      ]
    },
    {
      "cell_type": "code",
      "source": [
        "frutas2 = ['manzana','banana','naranja', 'kiwi']\n",
        "for i in range(len(frutas2)):\n",
        "    print(frutas2[i])"
      ],
      "metadata": {
        "colab": {
          "base_uri": "https://localhost:8080/"
        },
        "id": "Q23GZwqBBuID",
        "outputId": "35652b00-15d1-4337-da22-0d84c5510dd5"
      },
      "execution_count": 53,
      "outputs": [
        {
          "output_type": "stream",
          "name": "stdout",
          "text": [
            "manzana\n",
            "banana\n",
            "naranja\n",
            "kiwi\n"
          ]
        }
      ]
    },
    {
      "cell_type": "code",
      "source": [
        "numeros=[1.2,5,6,10.2,5.3,3,9,8,7,1.36]\n",
        "sum=0\n",
        "for num in numeros:\n",
        "  if type(num) == int:\n",
        "    sum+=num\n",
        "print(\"La suma es: \", sum)"
      ],
      "metadata": {
        "colab": {
          "base_uri": "https://localhost:8080/"
        },
        "id": "yOc86jGICUHc",
        "outputId": "7b7ded14-0100-4e81-acdf-8ca060144da5"
      },
      "execution_count": 56,
      "outputs": [
        {
          "output_type": "stream",
          "name": "stdout",
          "text": [
            "La suma es:  38\n"
          ]
        }
      ]
    }
  ]
}