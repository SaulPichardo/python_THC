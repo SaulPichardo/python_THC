{
  "nbformat": 4,
  "nbformat_minor": 0,
  "metadata": {
    "colab": {
      "provenance": [],
      "authorship_tag": "ABX9TyNWzDtIgRAjzrWwpoh1CRQq",
      "include_colab_link": true
    },
    "kernelspec": {
      "name": "python3",
      "display_name": "Python 3"
    },
    "language_info": {
      "name": "python"
    }
  },
  "cells": [
    {
      "cell_type": "markdown",
      "metadata": {
        "id": "view-in-github",
        "colab_type": "text"
      },
      "source": [
        "<a href=\"https://colab.research.google.com/github/SaulPichardo/python_THC/blob/main/Untitled0.ipynb\" target=\"_parent\"><img src=\"https://colab.research.google.com/assets/colab-badge.svg\" alt=\"Open In Colab\"/></a>"
      ]
    },
    {
      "cell_type": "code",
      "execution_count": 11,
      "metadata": {
        "id": "xA33910Msmtz",
        "colab": {
          "base_uri": "https://localhost:8080/"
        },
        "outputId": "cbd15cf9-b681-4287-aad9-1da9d78710cb"
      },
      "outputs": [
        {
          "output_type": "stream",
          "name": "stdout",
          "text": [
            "15 saul\n",
            "hola mundo\n",
            "Este es el primer programa en python\n",
            "11.5\n"
          ]
        }
      ],
      "source": [
        "\n",
        "x=15 #variable del tipo entero\n",
        "y='saul'#variable del tipo cadena\n",
        "print(x,y)# el comando print muestra en pantalla el resultado de mi operacion\n",
        "\n",
        "z='hola mundo'\n",
        "print(z)\n",
        "\n",
        "xy='Este es el primer programa en python'\n",
        "print(xy)\n",
        "\n",
        "\n",
        "a=6 #variable tipo flotante\n",
        "b=5.5\n",
        "suma=a+b\n",
        "print(suma)"
      ]
    },
    {
      "cell_type": "code",
      "source": [],
      "metadata": {
        "id": "9Qnvpz1kxQK_"
      },
      "execution_count": null,
      "outputs": []
    },
    {
      "cell_type": "code",
      "source": [
        "#Casteo\n",
        "x1=int(3) #especificamos que x es un entero.\n",
        "y1=float(3) #especidicamos que y1 es flotante\n",
        "z1=str(6)# transformamos el 6 a cadena\n",
        "print(type(x1))\n",
        "print(type(y1))\n",
        "print(type(z1))\n"
      ],
      "metadata": {
        "colab": {
          "base_uri": "https://localhost:8080/"
        },
        "id": "aKA8afKcy1mr",
        "outputId": "71815ce9-086b-4e01-9c96-935cd1728d6b"
      },
      "execution_count": 13,
      "outputs": [
        {
          "output_type": "stream",
          "name": "stdout",
          "text": [
            "<class 'int'>\n",
            "<class 'float'>\n",
            "<class 'str'>\n"
          ]
        }
      ]
    },
    {
      "cell_type": "code",
      "source": [
        "nombre1='saul pichardo'\n",
        "nombre2='miguel castillo'"
      ],
      "metadata": {
        "id": "_V6CVjjO0mgb"
      },
      "execution_count": 14,
      "outputs": []
    },
    {
      "cell_type": "code",
      "source": [
        "print(nombre1)\n",
        "print(nombre2)"
      ],
      "metadata": {
        "colab": {
          "base_uri": "https://localhost:8080/"
        },
        "id": "nK2rlKjm07GN",
        "outputId": "fae7b4df-d4dd-4c94-b858-66e19ac885a5"
      },
      "execution_count": 18,
      "outputs": [
        {
          "output_type": "stream",
          "name": "stdout",
          "text": [
            "saul pichardo\n",
            "miguel castillo\n"
          ]
        }
      ]
    },
    {
      "cell_type": "code",
      "source": [
        "#caso sensitivo\n",
        "a=4\n",
        "A='sally'\n",
        "#A nunca sobreescribirá a\n",
        "print(a,A)"
      ],
      "metadata": {
        "colab": {
          "base_uri": "https://localhost:8080/"
        },
        "id": "ElhSaCm62Jfv",
        "outputId": "2fb4c3eb-93b3-4f6a-8751-823d47a0f79d"
      },
      "execution_count": 17,
      "outputs": [
        {
          "output_type": "stream",
          "name": "stdout",
          "text": [
            "4 sally\n"
          ]
        }
      ]
    }
  ]
}
