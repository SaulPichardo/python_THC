{
  "nbformat": 4,
  "nbformat_minor": 0,
  "metadata": {
    "colab": {
      "provenance": [],
      "authorship_tag": "ABX9TyPGRfAQKIl3XckFX9u3mDYn",
      "include_colab_link": true
    },
    "kernelspec": {
      "name": "python3",
      "display_name": "Python 3"
    },
    "language_info": {
      "name": "python"
    }
  },
  "cells": [
    {
      "cell_type": "markdown",
      "metadata": {
        "id": "view-in-github",
        "colab_type": "text"
      },
      "source": [
        "<a href=\"https://colab.research.google.com/github/SaulPichardo/python_THC/blob/main/01_04_25.ipynb\" target=\"_parent\"><img src=\"https://colab.research.google.com/assets/colab-badge.svg\" alt=\"Open In Colab\"/></a>"
      ]
    },
    {
      "cell_type": "markdown",
      "source": [
        "## Funciones lambda"
      ],
      "metadata": {
        "id": "5RYQFtf9gSxa"
      }
    },
    {
      "cell_type": "code",
      "source": [
        "x = lambda a, b : a * b\n",
        "print(x(5, 6))"
      ],
      "metadata": {
        "colab": {
          "base_uri": "https://localhost:8080/"
        },
        "id": "3mc17zg4gVXI",
        "outputId": "ab821b69-375c-4ca6-ba88-82aaaf83e80a"
      },
      "execution_count": 1,
      "outputs": [
        {
          "output_type": "stream",
          "name": "stdout",
          "text": [
            "30\n"
          ]
        }
      ]
    },
    {
      "cell_type": "code",
      "source": [
        "def mifunc(n):\n",
        "  return lambda a : a * n\n",
        "\n",
        "midoble= mifunc(2)\n",
        "midoble(10)"
      ],
      "metadata": {
        "colab": {
          "base_uri": "https://localhost:8080/"
        },
        "id": "0P_Av-lkgpae",
        "outputId": "d3cf2a2a-b6b9-49db-d12e-208d955603fd"
      },
      "execution_count": 3,
      "outputs": [
        {
          "output_type": "execute_result",
          "data": {
            "text/plain": [
              "20"
            ]
          },
          "metadata": {},
          "execution_count": 3
        }
      ]
    },
    {
      "cell_type": "code",
      "source": [
        "triple= mifunc(3)\n",
        "triple([1,2,3]) #Concatenación"
      ],
      "metadata": {
        "colab": {
          "base_uri": "https://localhost:8080/"
        },
        "id": "6rcHuCwZhsNt",
        "outputId": "a558ad93-af40-434c-ddde-479817182c53"
      },
      "execution_count": 5,
      "outputs": [
        {
          "output_type": "execute_result",
          "data": {
            "text/plain": [
              "[1, 2, 3, 1, 2, 3, 1, 2, 3]"
            ]
          },
          "metadata": {},
          "execution_count": 5
        }
      ]
    },
    {
      "cell_type": "code",
      "source": [
        "dig1= str(input(\"Dame un numero \"))\n",
        "dig2= str(input(\"Dame otro numero \"))\n",
        "operacion= input(\"Dame la operacion \")\n",
        "\n",
        "def calculadora(dig1, dig2, operacion):\n",
        "    if operacion == \"suma\":\n",
        "      return str(dig1) + \" + \" + str(dig2) + \" = \" + str(int(dig1) + int(dig2))\n",
        "\n",
        "calculadora(dig1, dig2, operacion)"
      ],
      "metadata": {
        "colab": {
          "base_uri": "https://localhost:8080/",
          "height": 90
        },
        "id": "wv_iQc5fiDvV",
        "outputId": "2bb61497-e144-4576-b6c8-04c7479ab3e4"
      },
      "execution_count": 9,
      "outputs": [
        {
          "name": "stdout",
          "output_type": "stream",
          "text": [
            "Dame un numero4\n",
            "Dame otro numero1\n",
            "Dame la operacionsuma\n"
          ]
        },
        {
          "output_type": "execute_result",
          "data": {
            "text/plain": [
              "'4 + 1 = 5'"
            ],
            "application/vnd.google.colaboratory.intrinsic+json": {
              "type": "string"
            }
          },
          "metadata": {},
          "execution_count": 9
        }
      ]
    },
    {
      "cell_type": "markdown",
      "source": [
        "[Apuntes lambda](https://github.com/seismomat/HerramientasComputacionales/blob/main/.ipynb_checkpoints/Funciones%20Lambda-checkpoint.ipynb)\n",
        "\n",
        "[Apuntes random](https://github.com/seismomat/HerramientasComputacionales/blob/main/.ipynb_checkpoints/Random-checkpoint.ipynb)"
      ],
      "metadata": {
        "id": "5DQ0rW86wUcM"
      }
    },
    {
      "cell_type": "code",
      "source": [
        "import numpy as np\n",
        "\n",
        "arr = np.array([1, 2, 3, 4, 5])\n",
        "\n",
        "print(arr)\n",
        "\n",
        "print(type(arr))"
      ],
      "metadata": {
        "colab": {
          "base_uri": "https://localhost:8080/"
        },
        "id": "eKwtSBIuwuhs",
        "outputId": "b90f8301-9769-4868-970b-8a40f54c85f9"
      },
      "execution_count": 10,
      "outputs": [
        {
          "output_type": "stream",
          "name": "stdout",
          "text": [
            "[1 2 3 4 5]\n",
            "<class 'numpy.ndarray'>\n"
          ]
        }
      ]
    },
    {
      "cell_type": "code",
      "source": [
        "arr+2"
      ],
      "metadata": {
        "colab": {
          "base_uri": "https://localhost:8080/"
        },
        "id": "vq0nUcZ_xTJY",
        "outputId": "bbd806b7-e7fb-48ea-cf76-a9e21ae8031b"
      },
      "execution_count": 11,
      "outputs": [
        {
          "output_type": "execute_result",
          "data": {
            "text/plain": [
              "array([3, 4, 5, 6, 7])"
            ]
          },
          "metadata": {},
          "execution_count": 11
        }
      ]
    },
    {
      "cell_type": "code",
      "source": [
        "#Arreglo 0-Dimensional\n",
        "import numpy as np\n",
        "arr= np.array(10)"
      ],
      "metadata": {
        "id": "sEjAddX9xnUw"
      },
      "execution_count": null,
      "outputs": []
    },
    {
      "cell_type": "code",
      "source": [
        "#Arreglo 1-Dimensional\n",
        "import numpy as np\n",
        "arr= np.array([1,2,3,4,5])"
      ],
      "metadata": {
        "id": "HKDRWX8NyOzK"
      },
      "execution_count": null,
      "outputs": []
    },
    {
      "cell_type": "code",
      "source": [
        "#Arreglo 2-Dimensional\n",
        "import numpy as np\n",
        "arr= np.array([[1,2,3],[4,5,6]])"
      ],
      "metadata": {
        "id": "0ZM71RZXyTpP"
      },
      "execution_count": null,
      "outputs": []
    },
    {
      "cell_type": "markdown",
      "source": [
        "[Apuntes numpy](https://github.com/seismomat/HerramientasComputacionales/blob/main/.ipynb_checkpoints/Numpy-checkpoint.ipynb)"
      ],
      "metadata": {
        "id": "spXqh-9ryagP"
      }
    }
  ]
}