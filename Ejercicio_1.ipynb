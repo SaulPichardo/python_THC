{
  "nbformat": 4,
  "nbformat_minor": 0,
  "metadata": {
    "colab": {
      "provenance": [],
      "authorship_tag": "ABX9TyN5VQS5ncy58rReZrn35Y7n",
      "include_colab_link": true
    },
    "kernelspec": {
      "name": "python3",
      "display_name": "Python 3"
    },
    "language_info": {
      "name": "python"
    }
  },
  "cells": [
    {
      "cell_type": "markdown",
      "metadata": {
        "id": "view-in-github",
        "colab_type": "text"
      },
      "source": [
        "<a href=\"https://colab.research.google.com/github/SaulPichardo/python_THC/blob/main/Ejercicio_1.ipynb\" target=\"_parent\"><img src=\"https://colab.research.google.com/assets/colab-badge.svg\" alt=\"Open In Colab\"/></a>"
      ]
    },
    {
      "cell_type": "markdown",
      "source": [
        "Escribe un programa que imprima los primeros 10 multiplos de 3 utilizando un ciclo for.\n"
      ],
      "metadata": {
        "id": "41nOnxLCsSpZ"
      }
    },
    {
      "cell_type": "code",
      "source": [
        "for i in range(0,31,3):\n",
        "  print(i)"
      ],
      "metadata": {
        "colab": {
          "base_uri": "https://localhost:8080/"
        },
        "id": "_PuLPiLCsc_J",
        "outputId": "10e5b53e-9711-454a-bd05-cc7c396862f7"
      },
      "execution_count": 3,
      "outputs": [
        {
          "output_type": "stream",
          "name": "stdout",
          "text": [
            "0\n",
            "3\n",
            "6\n",
            "9\n",
            "12\n",
            "15\n",
            "18\n",
            "21\n",
            "24\n",
            "27\n",
            "30\n"
          ]
        }
      ]
    },
    {
      "cell_type": "code",
      "source": [
        "for i in range(1,11):\n",
        "  print(i*3)"
      ],
      "metadata": {
        "colab": {
          "base_uri": "https://localhost:8080/"
        },
        "id": "JWLtKeWTuhWe",
        "outputId": "871cb08b-962b-4a90-f7c1-dda77d99a513"
      },
      "execution_count": 4,
      "outputs": [
        {
          "output_type": "stream",
          "name": "stdout",
          "text": [
            "3\n",
            "6\n",
            "9\n",
            "12\n",
            "15\n",
            "18\n",
            "21\n",
            "24\n",
            "27\n",
            "30\n"
          ]
        }
      ]
    },
    {
      "cell_type": "code",
      "source": [
        "i=1\n",
        "while i <= 10:\n",
        "  print(i*3)\n",
        "  i += 1"
      ],
      "metadata": {
        "colab": {
          "base_uri": "https://localhost:8080/"
        },
        "id": "7A2rP_lhurm5",
        "outputId": "4d38cad0-7966-4948-e9c8-42e46928e437"
      },
      "execution_count": 5,
      "outputs": [
        {
          "output_type": "stream",
          "name": "stdout",
          "text": [
            "3\n",
            "6\n",
            "9\n",
            "12\n",
            "15\n",
            "18\n",
            "21\n",
            "24\n",
            "27\n",
            "30\n"
          ]
        }
      ]
    },
    {
      "cell_type": "markdown",
      "source": [
        "Crea un programa que solicite al usuario un número y muestre su tabla de multiplicar hasta el 10."
      ],
      "metadata": {
        "id": "P4j0E_nLu6jP"
      }
    },
    {
      "cell_type": "code",
      "source": [
        "n=int(input(\"Dame un número \"))\n",
        "i=1\n",
        "for i in range(0,11):\n",
        "  i +=1\n",
        "  print(n*i)\n",
        "  if i == 10:\n",
        "    break"
      ],
      "metadata": {
        "colab": {
          "base_uri": "https://localhost:8080/"
        },
        "id": "7jIDnsXYvD7M",
        "outputId": "b7c33683-a04b-4da6-927e-d163dafb7768"
      },
      "execution_count": 19,
      "outputs": [
        {
          "output_type": "stream",
          "name": "stdout",
          "text": [
            "Dame un número 4\n",
            "4\n",
            "8\n",
            "12\n",
            "16\n",
            "20\n",
            "24\n",
            "28\n",
            "32\n",
            "36\n",
            "40\n"
          ]
        }
      ]
    },
    {
      "cell_type": "code",
      "source": [
        "n=int(input(\"Dame un numero\"))\n",
        "for i in range(1,11):\n",
        "  print(n*i)"
      ],
      "metadata": {
        "colab": {
          "base_uri": "https://localhost:8080/"
        },
        "id": "-qeE67tvxfnf",
        "outputId": "06c7cd2d-63ee-4972-d6ff-8fb04987e0c5"
      },
      "execution_count": 20,
      "outputs": [
        {
          "output_type": "stream",
          "name": "stdout",
          "text": [
            "Dame un numero4\n",
            "4\n",
            "8\n",
            "12\n",
            "16\n",
            "20\n",
            "24\n",
            "28\n",
            "32\n",
            "36\n",
            "40\n"
          ]
        }
      ]
    },
    {
      "cell_type": "markdown",
      "source": [
        "Escribe un programa que solicite números al usuario y los sume hasta ingresar cero (0)."
      ],
      "metadata": {
        "id": "SJK7ydhRxwuo"
      }
    },
    {
      "cell_type": "code",
      "source": [
        "n=int(input(\"Dame un numero \"))\n",
        "suma=n\n",
        "while n != 0:\n",
        "  n=int(input(\"Dame un numero \"))\n",
        "  suma += n\n",
        "  print(suma)\n",
        ""
      ],
      "metadata": {
        "colab": {
          "base_uri": "https://localhost:8080/"
        },
        "id": "L4ki7NpjyGJO",
        "outputId": "d6040e44-b93c-4f5a-cf61-042627875177"
      },
      "execution_count": 33,
      "outputs": [
        {
          "output_type": "stream",
          "name": "stdout",
          "text": [
            "Dame un numero 1\n",
            "Dame un numero 3\n",
            "4\n",
            "Dame un numero 4\n",
            "8\n",
            "Dame un numero 9\n",
            "17\n",
            "Dame un numero 0\n",
            "17\n"
          ]
        }
      ]
    },
    {
      "cell_type": "code",
      "source": [
        "suma=0\n",
        "n=1\n",
        "while n != 0:\n",
        "  n=int(input(\"Dame un numero \"))\n",
        "  suma= suma + n\n",
        "print(suma)"
      ],
      "metadata": {
        "colab": {
          "base_uri": "https://localhost:8080/"
        },
        "id": "6Vn6bM9s02RM",
        "outputId": "5f96daf4-f88e-4105-ac77-4e6003664e82"
      },
      "execution_count": 31,
      "outputs": [
        {
          "output_type": "stream",
          "name": "stdout",
          "text": [
            "Dame un numero 2\n",
            "Dame un numero 1\n",
            "Dame un numero 0\n",
            "3\n"
          ]
        }
      ]
    }
  ]
}