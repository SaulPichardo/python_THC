{
  "nbformat": 4,
  "nbformat_minor": 0,
  "metadata": {
    "colab": {
      "provenance": [],
      "authorship_tag": "ABX9TyNOtkiqVGZ1fgPCn9mysvtf",
      "include_colab_link": true
    },
    "kernelspec": {
      "name": "python3",
      "display_name": "Python 3"
    },
    "language_info": {
      "name": "python"
    }
  },
  "cells": [
    {
      "cell_type": "markdown",
      "metadata": {
        "id": "view-in-github",
        "colab_type": "text"
      },
      "source": [
        "<a href=\"https://colab.research.google.com/github/SaulPichardo/python_THC/blob/main/18_03_25.ipynb\" target=\"_parent\"><img src=\"https://colab.research.google.com/assets/colab-badge.svg\" alt=\"Open In Colab\"/></a>"
      ]
    },
    {
      "cell_type": "code",
      "execution_count": 2,
      "metadata": {
        "colab": {
          "base_uri": "https://localhost:8080/"
        },
        "id": "ZQpTsfRaZ2iB",
        "outputId": "03944859-e1ee-4839-d799-d3fa17158923"
      },
      "outputs": [
        {
          "output_type": "stream",
          "name": "stdout",
          "text": [
            "Hola, mundo\n"
          ]
        }
      ],
      "source": [
        "cadena1= \"Hola, mundo\"\n",
        "cadena2= '¡Python es genial!'\n",
        "print(cadena1)"
      ]
    },
    {
      "cell_type": "code",
      "source": [
        "texto=\"\"\"En un lugar de la Mancha, de cuyo nombre no quiero acordarme, no ha mucho tiempo que vivía un hidalgo de los de lanza en astillero, adarga antigua, rocín flaco y galgo corredor. Una olla de algo más vaca que carnero, salpicón las más noches, d\n",
        "uelos y quebrantos los sábados, lantejas los viernes, algún palomino de añadidura los domingos, consumían las tres partes\n",
        "de su hacienda.\"\"\"\n",
        "print(texto)\n",
        "print(type(texto))"
      ],
      "metadata": {
        "colab": {
          "base_uri": "https://localhost:8080/"
        },
        "id": "QyDWfj9da5zB",
        "outputId": "74dba5a0-37cd-421a-9ba1-1ff2e7c3bbd5"
      },
      "execution_count": 5,
      "outputs": [
        {
          "output_type": "stream",
          "name": "stdout",
          "text": [
            "En un lugar de la Mancha, de cuyo nombre no quiero acordarme, no ha mucho tiempo que vivía un hidalgo de los de lanza en astillero, adarga antigua, rocín flaco y galgo corredor. Una olla de algo más vaca que carnero, salpicón las más noches, d\n",
            "uelos y quebrantos los sábados, lantejas los viernes, algún palomino de añadidura los domingos, consumían las tres partes \n",
            "de su hacienda.\n",
            "<class 'str'>\n"
          ]
        }
      ]
    },
    {
      "cell_type": "code",
      "source": [
        "cadena1[0:6] #slicing o subconjuntos\n",
        "cadena1 [5:7]"
      ],
      "metadata": {
        "colab": {
          "base_uri": "https://localhost:8080/",
          "height": 36
        },
        "id": "x9Gf3vRhcdJ7",
        "outputId": "8c6258e3-7956-42e1-a3ea-33b68dad0e48"
      },
      "execution_count": 9,
      "outputs": [
        {
          "output_type": "execute_result",
          "data": {
            "text/plain": [
              "' m'"
            ],
            "application/vnd.google.colaboratory.intrinsic+json": {
              "type": "string"
            }
          },
          "metadata": {},
          "execution_count": 9
        }
      ]
    },
    {
      "cell_type": "code",
      "source": [
        "cadena1=cadena1.replace(\",\",\" \")\n",
        "cadena1=cadena1.replace(\" \",\"\")\n",
        "cadena1=cadena1.replace(\"¡\",\"\")\n",
        "cadena1"
      ],
      "metadata": {
        "colab": {
          "base_uri": "https://localhost:8080/",
          "height": 36
        },
        "id": "Ui2aSPb_c7Lb",
        "outputId": "7f04381b-1afa-483f-da54-4ad2c2469fbd"
      },
      "execution_count": 12,
      "outputs": [
        {
          "output_type": "execute_result",
          "data": {
            "text/plain": [
              "'Holamundo'"
            ],
            "application/vnd.google.colaboratory.intrinsic+json": {
              "type": "string"
            }
          },
          "metadata": {},
          "execution_count": 12
        }
      ]
    },
    {
      "cell_type": "code",
      "source": [
        "texto.split()"
      ],
      "metadata": {
        "colab": {
          "base_uri": "https://localhost:8080/"
        },
        "id": "ZEsPJYk_eADh",
        "outputId": "71c34ff1-1727-47b0-b489-5a9f1d7579a3"
      },
      "execution_count": 15,
      "outputs": [
        {
          "output_type": "execute_result",
          "data": {
            "text/plain": [
              "['En',\n",
              " 'un',\n",
              " 'lugar',\n",
              " 'de',\n",
              " 'la',\n",
              " 'Mancha,',\n",
              " 'de',\n",
              " 'cuyo',\n",
              " 'nombre',\n",
              " 'no',\n",
              " 'quiero',\n",
              " 'acordarme,',\n",
              " 'no',\n",
              " 'ha',\n",
              " 'mucho',\n",
              " 'tiempo',\n",
              " 'que',\n",
              " 'vivía',\n",
              " 'un',\n",
              " 'hidalgo',\n",
              " 'de',\n",
              " 'los',\n",
              " 'de',\n",
              " 'lanza',\n",
              " 'en',\n",
              " 'astillero,',\n",
              " 'adarga',\n",
              " 'antigua,',\n",
              " 'rocín',\n",
              " 'flaco',\n",
              " 'y',\n",
              " 'galgo',\n",
              " 'corredor.',\n",
              " 'Una',\n",
              " 'olla',\n",
              " 'de',\n",
              " 'algo',\n",
              " 'más',\n",
              " 'vaca',\n",
              " 'que',\n",
              " 'carnero,',\n",
              " 'salpicón',\n",
              " 'las',\n",
              " 'más',\n",
              " 'noches,',\n",
              " 'd',\n",
              " 'uelos',\n",
              " 'y',\n",
              " 'quebrantos',\n",
              " 'los',\n",
              " 'sábados,',\n",
              " 'lantejas',\n",
              " 'los',\n",
              " 'viernes,',\n",
              " 'algún',\n",
              " 'palomino',\n",
              " 'de',\n",
              " 'añadidura',\n",
              " 'los',\n",
              " 'domingos,',\n",
              " 'consumían',\n",
              " 'las',\n",
              " 'tres',\n",
              " 'partes',\n",
              " 'de',\n",
              " 'su',\n",
              " 'hacienda.']"
            ]
          },
          "metadata": {},
          "execution_count": 15
        }
      ]
    },
    {
      "cell_type": "code",
      "source": [
        "cadena3=\"Miguel\""
      ],
      "metadata": {
        "id": "GpfR0H4ofKZA"
      },
      "execution_count": 21,
      "outputs": []
    },
    {
      "cell_type": "code",
      "source": [
        "cadena4=cadena3.lower()\n",
        "cadena4"
      ],
      "metadata": {
        "colab": {
          "base_uri": "https://localhost:8080/",
          "height": 36
        },
        "id": "TSETDXDIfpXa",
        "outputId": "29dee0df-2c0b-4bf0-a01b-b43e4fffc6ec"
      },
      "execution_count": 27,
      "outputs": [
        {
          "output_type": "execute_result",
          "data": {
            "text/plain": [
              "'miguel'"
            ],
            "application/vnd.google.colaboratory.intrinsic+json": {
              "type": "string"
            }
          },
          "metadata": {},
          "execution_count": 27
        }
      ]
    },
    {
      "cell_type": "code",
      "source": [
        "cadena5=cadena3.upper()\n",
        "cadena5"
      ],
      "metadata": {
        "colab": {
          "base_uri": "https://localhost:8080/",
          "height": 36
        },
        "id": "HTpJHrQLgITq",
        "outputId": "e71bed90-05b5-45e2-9a34-f4b4eea53a11"
      },
      "execution_count": 28,
      "outputs": [
        {
          "output_type": "execute_result",
          "data": {
            "text/plain": [
              "'MIGUEL'"
            ],
            "application/vnd.google.colaboratory.intrinsic+json": {
              "type": "string"
            }
          },
          "metadata": {},
          "execution_count": 28
        }
      ]
    },
    {
      "cell_type": "code",
      "source": [
        "cadena6= cadena5+ \" \"+cadena4\n",
        "cadena6"
      ],
      "metadata": {
        "colab": {
          "base_uri": "https://localhost:8080/",
          "height": 36
        },
        "id": "inn2TZWogQfI",
        "outputId": "23991053-998c-475f-82b3-4da10fbc5e6c"
      },
      "execution_count": 33,
      "outputs": [
        {
          "output_type": "execute_result",
          "data": {
            "text/plain": [
              "'MIGUEL miguel'"
            ],
            "application/vnd.google.colaboratory.intrinsic+json": {
              "type": "string"
            }
          },
          "metadata": {},
          "execution_count": 33
        }
      ]
    },
    {
      "cell_type": "code",
      "source": [
        "len(cadena5) #cardinalidad"
      ],
      "metadata": {
        "colab": {
          "base_uri": "https://localhost:8080/"
        },
        "id": "lCr07dsngYal",
        "outputId": "05efd6e6-ae00-4949-e096-62a075d840c1"
      },
      "execution_count": 31,
      "outputs": [
        {
          "output_type": "execute_result",
          "data": {
            "text/plain": [
              "6"
            ]
          },
          "metadata": {},
          "execution_count": 31
        }
      ]
    },
    {
      "cell_type": "code",
      "source": [
        "for char in cadena6: #char es de character\n",
        "  print(char)"
      ],
      "metadata": {
        "colab": {
          "base_uri": "https://localhost:8080/"
        },
        "id": "38BRmV0Ygdcc",
        "outputId": "1cf7abe2-358d-4dc4-b6fd-1354be8049b0"
      },
      "execution_count": 34,
      "outputs": [
        {
          "output_type": "stream",
          "name": "stdout",
          "text": [
            "M\n",
            "I\n",
            "G\n",
            "U\n",
            "E\n",
            "L\n",
            " \n",
            "m\n",
            "i\n",
            "g\n",
            "u\n",
            "e\n",
            "l\n"
          ]
        }
      ]
    },
    {
      "cell_type": "code",
      "source": [
        "cadenaR=input(\"Dame una palabra o un numero \")\n",
        "print(\"La cantidad de letras es \" +str(len(cadenaR)))"
      ],
      "metadata": {
        "colab": {
          "base_uri": "https://localhost:8080/"
        },
        "id": "qkfJLPfhgspa",
        "outputId": "3ba4b8c0-cdba-4e43-c50c-cf70ab51890c"
      },
      "execution_count": 46,
      "outputs": [
        {
          "output_type": "stream",
          "name": "stdout",
          "text": [
            "Dame una palabra o un numero lololo\n",
            "La cantidad de letras es 6\n"
          ]
        }
      ]
    },
    {
      "cell_type": "code",
      "source": [
        "cadenaT=input(\"Dame una palabra\")\n",
        "print(\"tu palabra en mayúsculas es \"+cadenaT.upper()+\" y tu palabra en minusculas es \"+cadenaT.lower())"
      ],
      "metadata": {
        "colab": {
          "base_uri": "https://localhost:8080/"
        },
        "id": "W4fwghiKiZEN",
        "outputId": "fdd2c2a6-329e-4163-f156-c37ec8668fc7"
      },
      "execution_count": 49,
      "outputs": [
        {
          "output_type": "stream",
          "name": "stdout",
          "text": [
            "Dame una palabralol\n",
            "tu palabra en mayúsculas es LOL y tu palabra en minusculas es lol\n"
          ]
        }
      ]
    },
    {
      "cell_type": "code",
      "source": [
        "Mayus=\"A E I O U\"\n",
        "Minus=Mayus.lower()\n",
        "Palabra=input(\"dame una palabra \")\n",
        "\n",
        "NumVocMayus=0\n",
        "NumVocMinus=0\n",
        "\n",
        "CuMinus=\"\"\n",
        "CuMayus=\"\"\n",
        "for char in Palabra:\n",
        "  for Ichar in range(0,len(Mayus),2):\n",
        "    if char==Mayus[Ichar]:\n",
        "      NumVocMayus+=1\n",
        "      CuMayus+=Mayus[Ichar]\n",
        "    elif char==Minus[Ichar]:\n",
        "      NumVocMinus+=1\n",
        "      CuMinus+=Minus[Ichar]\n",
        "print(\"Tienes \"+str(NumVocMinus)+\" minusculas\")\n",
        "print(\"Que son \",CuMinus)\n",
        "\n",
        "print(\"tienes \"+str(NumVocMayus)+\" Mayusculas\")\n",
        "print(\"Que son\",CuMayus)"
      ],
      "metadata": {
        "colab": {
          "base_uri": "https://localhost:8080/"
        },
        "id": "Bshx3NW3j6c2",
        "outputId": "7d35bc3a-1810-460c-8514-5513b698e585"
      },
      "execution_count": 77,
      "outputs": [
        {
          "output_type": "stream",
          "name": "stdout",
          "text": [
            "dame una palabra holAaaa\n",
            "Tienes 4 minusculas\n",
            "Que son  oaaa\n",
            "tienes 1 Mayusculas\n",
            "Que son A\n"
          ]
        }
      ]
    },
    {
      "cell_type": "markdown",
      "source": [
        "**CONJUNTOS**"
      ],
      "metadata": {
        "id": "QDvR-aFmuvVi"
      }
    },
    {
      "cell_type": "code",
      "source": [
        "conjunto_vacio= set()\n",
        "conjunto_numeros = {1, 2, 3, 4, 5}"
      ],
      "metadata": {
        "id": "qgkfGDmouxhA"
      },
      "execution_count": 3,
      "outputs": []
    },
    {
      "cell_type": "code",
      "source": [
        "conjunto_numeros.remove(3)\n",
        "conjunto_numeros"
      ],
      "metadata": {
        "colab": {
          "base_uri": "https://localhost:8080/"
        },
        "id": "4Q0HkQ5XvISz",
        "outputId": "b558c21d-4280-45fe-d48a-b5f2b2af7d76"
      },
      "execution_count": 4,
      "outputs": [
        {
          "output_type": "execute_result",
          "data": {
            "text/plain": [
              "{1, 2, 4, 5}"
            ]
          },
          "metadata": {},
          "execution_count": 4
        }
      ]
    }
  ]
}