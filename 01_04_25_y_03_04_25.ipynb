{
  "nbformat": 4,
  "nbformat_minor": 0,
  "metadata": {
    "colab": {
      "provenance": [],
      "authorship_tag": "ABX9TyOppxr2Xif4KyKNp78nV3KC",
      "include_colab_link": true
    },
    "kernelspec": {
      "name": "python3",
      "display_name": "Python 3"
    },
    "language_info": {
      "name": "python"
    }
  },
  "cells": [
    {
      "cell_type": "markdown",
      "metadata": {
        "id": "view-in-github",
        "colab_type": "text"
      },
      "source": [
        "<a href=\"https://colab.research.google.com/github/SaulPichardo/python_THC/blob/main/01_04_25_y_03_04_25.ipynb\" target=\"_parent\"><img src=\"https://colab.research.google.com/assets/colab-badge.svg\" alt=\"Open In Colab\"/></a>"
      ]
    },
    {
      "cell_type": "markdown",
      "source": [
        "## Funciones lambda"
      ],
      "metadata": {
        "id": "5RYQFtf9gSxa"
      }
    },
    {
      "cell_type": "code",
      "source": [
        "x = lambda a, b : a * b\n",
        "print(x(5, 6))"
      ],
      "metadata": {
        "colab": {
          "base_uri": "https://localhost:8080/"
        },
        "id": "3mc17zg4gVXI",
        "outputId": "ab821b69-375c-4ca6-ba88-82aaaf83e80a"
      },
      "execution_count": null,
      "outputs": [
        {
          "output_type": "stream",
          "name": "stdout",
          "text": [
            "30\n"
          ]
        }
      ]
    },
    {
      "cell_type": "code",
      "source": [
        "def mifunc(n):\n",
        "  return lambda a : a * n\n",
        "\n",
        "midoble= mifunc(2)\n",
        "midoble(10)"
      ],
      "metadata": {
        "colab": {
          "base_uri": "https://localhost:8080/"
        },
        "id": "0P_Av-lkgpae",
        "outputId": "d3cf2a2a-b6b9-49db-d12e-208d955603fd"
      },
      "execution_count": null,
      "outputs": [
        {
          "output_type": "execute_result",
          "data": {
            "text/plain": [
              "20"
            ]
          },
          "metadata": {},
          "execution_count": 3
        }
      ]
    },
    {
      "cell_type": "code",
      "source": [
        "triple= mifunc(3)\n",
        "triple([1,2,3]) #Concatenación"
      ],
      "metadata": {
        "colab": {
          "base_uri": "https://localhost:8080/"
        },
        "id": "6rcHuCwZhsNt",
        "outputId": "a558ad93-af40-434c-ddde-479817182c53"
      },
      "execution_count": null,
      "outputs": [
        {
          "output_type": "execute_result",
          "data": {
            "text/plain": [
              "[1, 2, 3, 1, 2, 3, 1, 2, 3]"
            ]
          },
          "metadata": {},
          "execution_count": 5
        }
      ]
    },
    {
      "cell_type": "code",
      "source": [
        "dig1= str(input(\"Dame un numero \"))\n",
        "dig2= str(input(\"Dame otro numero \"))\n",
        "operacion= input(\"Dame la operacion \")\n",
        "\n",
        "def calculadora(dig1, dig2, operacion):\n",
        "    if operacion == \"suma\":\n",
        "      return str(dig1) + \" + \" + str(dig2) + \" = \" + str(int(dig1) + int(dig2))\n",
        "\n",
        "calculadora(dig1, dig2, operacion)"
      ],
      "metadata": {
        "colab": {
          "base_uri": "https://localhost:8080/",
          "height": 90
        },
        "id": "wv_iQc5fiDvV",
        "outputId": "2bb61497-e144-4576-b6c8-04c7479ab3e4"
      },
      "execution_count": null,
      "outputs": [
        {
          "name": "stdout",
          "output_type": "stream",
          "text": [
            "Dame un numero4\n",
            "Dame otro numero1\n",
            "Dame la operacionsuma\n"
          ]
        },
        {
          "output_type": "execute_result",
          "data": {
            "text/plain": [
              "'4 + 1 = 5'"
            ],
            "application/vnd.google.colaboratory.intrinsic+json": {
              "type": "string"
            }
          },
          "metadata": {},
          "execution_count": 9
        }
      ]
    },
    {
      "cell_type": "markdown",
      "source": [
        "[Apuntes lambda](https://github.com/seismomat/HerramientasComputacionales/blob/main/.ipynb_checkpoints/Funciones%20Lambda-checkpoint.ipynb)\n",
        "\n",
        "[Apuntes random](https://github.com/seismomat/HerramientasComputacionales/blob/main/.ipynb_checkpoints/Random-checkpoint.ipynb)"
      ],
      "metadata": {
        "id": "5DQ0rW86wUcM"
      }
    },
    {
      "cell_type": "code",
      "source": [
        "import numpy as np\n",
        "\n",
        "arr = np.array([1, 2, 3, 4, 5])\n",
        "\n",
        "print(arr)\n",
        "\n",
        "print(type(arr))"
      ],
      "metadata": {
        "colab": {
          "base_uri": "https://localhost:8080/"
        },
        "id": "eKwtSBIuwuhs",
        "outputId": "b90f8301-9769-4868-970b-8a40f54c85f9"
      },
      "execution_count": null,
      "outputs": [
        {
          "output_type": "stream",
          "name": "stdout",
          "text": [
            "[1 2 3 4 5]\n",
            "<class 'numpy.ndarray'>\n"
          ]
        }
      ]
    },
    {
      "cell_type": "code",
      "source": [
        "arr+2"
      ],
      "metadata": {
        "colab": {
          "base_uri": "https://localhost:8080/"
        },
        "id": "vq0nUcZ_xTJY",
        "outputId": "bbd806b7-e7fb-48ea-cf76-a9e21ae8031b"
      },
      "execution_count": null,
      "outputs": [
        {
          "output_type": "execute_result",
          "data": {
            "text/plain": [
              "array([3, 4, 5, 6, 7])"
            ]
          },
          "metadata": {},
          "execution_count": 11
        }
      ]
    },
    {
      "cell_type": "code",
      "source": [
        "#Arreglo 0-Dimensional\n",
        "import numpy as np\n",
        "arr= np.array(10)"
      ],
      "metadata": {
        "id": "sEjAddX9xnUw"
      },
      "execution_count": null,
      "outputs": []
    },
    {
      "cell_type": "code",
      "source": [
        "#Arreglo 1-Dimensional\n",
        "import numpy as np\n",
        "arr= np.array([1,2,3,4,5])"
      ],
      "metadata": {
        "id": "HKDRWX8NyOzK"
      },
      "execution_count": null,
      "outputs": []
    },
    {
      "cell_type": "code",
      "source": [
        "#Arreglo 2-Dimensional\n",
        "import numpy as np\n",
        "arr= np.array([[1,2,3],[4,5,6]])"
      ],
      "metadata": {
        "id": "0ZM71RZXyTpP"
      },
      "execution_count": 3,
      "outputs": []
    },
    {
      "cell_type": "markdown",
      "source": [
        "[Apuntes numpy](https://github.com/seismomat/HerramientasComputacionales/blob/main/.ipynb_checkpoints/Numpy-checkpoint.ipynb)"
      ],
      "metadata": {
        "id": "spXqh-9ryagP"
      }
    },
    {
      "cell_type": "code",
      "source": [
        "import numpy as np\n",
        "a= np.array([1,2,3,4,5,6,7])\n",
        "print(a.ndim,a.shape) #Dimension y forma"
      ],
      "metadata": {
        "colab": {
          "base_uri": "https://localhost:8080/"
        },
        "id": "chHMF99mzNmD",
        "outputId": "96d65419-9fd9-48c9-e45e-c51621dc50f0"
      },
      "execution_count": 11,
      "outputs": [
        {
          "output_type": "stream",
          "name": "stdout",
          "text": [
            "1 (7,)\n"
          ]
        }
      ]
    },
    {
      "cell_type": "code",
      "source": [
        "print(a[:])"
      ],
      "metadata": {
        "colab": {
          "base_uri": "https://localhost:8080/"
        },
        "id": "iPkP5Ufh38PT",
        "outputId": "ace96559-2319-4583-ae1a-5fc25f9ca593"
      },
      "execution_count": 14,
      "outputs": [
        {
          "output_type": "stream",
          "name": "stdout",
          "text": [
            "[1 2 3 4 5 6 7]\n"
          ]
        }
      ]
    },
    {
      "cell_type": "code",
      "source": [
        "print(a[0:5:2])"
      ],
      "metadata": {
        "colab": {
          "base_uri": "https://localhost:8080/"
        },
        "id": "VjLsryYo5wtm",
        "outputId": "df94da14-a517-40e3-d25a-595feb0c5593"
      },
      "execution_count": 12,
      "outputs": [
        {
          "output_type": "stream",
          "name": "stdout",
          "text": [
            "[1 3 5]\n"
          ]
        }
      ]
    },
    {
      "cell_type": "code",
      "source": [
        "print(a[::3])"
      ],
      "metadata": {
        "colab": {
          "base_uri": "https://localhost:8080/"
        },
        "id": "rTTrdxH-6H6V",
        "outputId": "e81fa6d2-dddf-48b6-f526-ada374f22016"
      },
      "execution_count": 13,
      "outputs": [
        {
          "output_type": "stream",
          "name": "stdout",
          "text": [
            "[1 4 7]\n"
          ]
        }
      ]
    },
    {
      "cell_type": "code",
      "source": [
        "B= np.array([[1,2,3],[4,5,6]])\n",
        "print(B[1])"
      ],
      "metadata": {
        "colab": {
          "base_uri": "https://localhost:8080/"
        },
        "id": "9BuoIAqR7AYC",
        "outputId": "51a820a9-a209-45bf-ee7f-59d417e4e810"
      },
      "execution_count": 16,
      "outputs": [
        {
          "output_type": "stream",
          "name": "stdout",
          "text": [
            "[4 5 6]\n"
          ]
        }
      ]
    },
    {
      "cell_type": "code",
      "source": [
        "print(B[0,:])"
      ],
      "metadata": {
        "colab": {
          "base_uri": "https://localhost:8080/"
        },
        "id": "2y71nUaI7OA9",
        "outputId": "28de835f-cd01-4039-c96d-66591f6d1f65"
      },
      "execution_count": 20,
      "outputs": [
        {
          "output_type": "stream",
          "name": "stdout",
          "text": [
            "[1 2 3]\n"
          ]
        }
      ]
    },
    {
      "cell_type": "code",
      "source": [
        "print(B[:,1]) #imprimir el elemento num 1 de cada arreglo"
      ],
      "metadata": {
        "colab": {
          "base_uri": "https://localhost:8080/"
        },
        "id": "sEC_Sr5H8088",
        "outputId": "c60f92aa-a2b0-4d2a-fbc8-ee1fa8f7c854"
      },
      "execution_count": 22,
      "outputs": [
        {
          "output_type": "stream",
          "name": "stdout",
          "text": [
            "[2 5]\n"
          ]
        }
      ]
    },
    {
      "cell_type": "code",
      "source": [
        "print(B[:,0:2])"
      ],
      "metadata": {
        "colab": {
          "base_uri": "https://localhost:8080/"
        },
        "id": "OET7mMh69zaB",
        "outputId": "84167d5e-ecf1-4795-8155-c3a06aaab5a8"
      },
      "execution_count": 23,
      "outputs": [
        {
          "output_type": "stream",
          "name": "stdout",
          "text": [
            "[[1 2]\n",
            " [4 5]]\n"
          ]
        }
      ]
    },
    {
      "cell_type": "code",
      "source": [
        "print(B[:,::2])"
      ],
      "metadata": {
        "colab": {
          "base_uri": "https://localhost:8080/"
        },
        "id": "lIixgj4R-dxB",
        "outputId": "17bfed8d-ffcf-441a-f69f-ca955e3e0fea"
      },
      "execution_count": 24,
      "outputs": [
        {
          "output_type": "stream",
          "name": "stdout",
          "text": [
            "[[1 3]\n",
            " [4 6]]\n"
          ]
        }
      ]
    },
    {
      "cell_type": "code",
      "source": [
        "def factorial(n):\n",
        "  if type(n)==int:\n",
        "    fact=1\n",
        "    for i in range(1, n+1):\n",
        "      fact=fact*1\n",
        "      return fact\n",
        "    else:\n",
        "      return 'error'\n",
        "factorial(5)"
      ],
      "metadata": {
        "colab": {
          "base_uri": "https://localhost:8080/"
        },
        "id": "NkQFgywIEgoG",
        "outputId": "2667eecb-14ed-44fb-a97f-dedf78617714"
      },
      "execution_count": 61,
      "outputs": [
        {
          "output_type": "execute_result",
          "data": {
            "text/plain": [
              "1"
            ]
          },
          "metadata": {},
          "execution_count": 61
        }
      ]
    }
  ]
}