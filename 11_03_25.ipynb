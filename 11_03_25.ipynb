{
  "nbformat": 4,
  "nbformat_minor": 0,
  "metadata": {
    "colab": {
      "provenance": [],
      "authorship_tag": "ABX9TyP0d+5O7ySEaFe4lFliNif/",
      "include_colab_link": true
    },
    "kernelspec": {
      "name": "python3",
      "display_name": "Python 3"
    },
    "language_info": {
      "name": "python"
    }
  },
  "cells": [
    {
      "cell_type": "markdown",
      "metadata": {
        "id": "view-in-github",
        "colab_type": "text"
      },
      "source": [
        "<a href=\"https://colab.research.google.com/github/SaulPichardo/python_THC/blob/main/11_03_25.ipynb\" target=\"_parent\"><img src=\"https://colab.research.google.com/assets/colab-badge.svg\" alt=\"Open In Colab\"/></a>"
      ]
    },
    {
      "cell_type": "code",
      "execution_count": 3,
      "metadata": {
        "colab": {
          "base_uri": "https://localhost:8080/"
        },
        "id": "hqdIAIYdXWyq",
        "outputId": "0a4eccd1-00d3-44a9-d046-727570ef2b79"
      },
      "outputs": [
        {
          "output_type": "stream",
          "name": "stdout",
          "text": [
            "b mayor que a\n"
          ]
        }
      ],
      "source": [
        "a=33\n",
        "b=200\n",
        "if b>a:\n",
        "  print(\"b mayor que a\")"
      ]
    },
    {
      "cell_type": "markdown",
      "source": [
        "apunte: [Estructuras de control: if, elif, else](https://github.com/seismomat/HerramientasComputacionales/blob/main/NivelBasico/FundamentosDeProgramacion/Estructuras%20de%20control%20if%2C%20elif%2C%20else.ipynb)"
      ],
      "metadata": {
        "id": "Z-fnKSHaZpCN"
      }
    },
    {
      "cell_type": "code",
      "source": [
        "a=30\n",
        "b=30\n",
        "if b>a:\n",
        "  print(\"b es mayor que a\")\n",
        "elif a==b:\n",
        "  print(\"a y b son iguales\")"
      ],
      "metadata": {
        "colab": {
          "base_uri": "https://localhost:8080/"
        },
        "id": "jDTqwUVMYgjv",
        "outputId": "ffe18309-c2d7-4049-c401-9563cc046ec0"
      },
      "execution_count": 6,
      "outputs": [
        {
          "output_type": "stream",
          "name": "stdout",
          "text": [
            "a y b son iguales\n"
          ]
        }
      ]
    },
    {
      "cell_type": "code",
      "source": [
        "a=33\n",
        "b=33\n",
        "c=33\n",
        "if a > b and c > a:\n",
        "  print(\"a>b y c>a\")\n",
        "elif a <b and c > a:\n",
        "  print(\"a < b y c > a\")\n",
        "elif a > b and c < a:\n",
        "  print(\"a > b y c < a\")\n",
        "else:\n",
        "  print(\"C.O.C\")"
      ],
      "metadata": {
        "colab": {
          "base_uri": "https://localhost:8080/"
        },
        "id": "X800htFfZ81K",
        "outputId": "cb07d74b-3b0a-411e-f51c-0157f04f91af"
      },
      "execution_count": 10,
      "outputs": [
        {
          "output_type": "stream",
          "name": "stdout",
          "text": [
            "C.O.C\n"
          ]
        }
      ]
    },
    {
      "cell_type": "code",
      "source": [
        "a = 200\n",
        "b = 33\n",
        "c = 500\n",
        "if a < b or a > c and c > b or a > b:\n",
        "  print(\"Al menos una de las condiciones es verdadera\")"
      ],
      "metadata": {
        "colab": {
          "base_uri": "https://localhost:8080/"
        },
        "id": "1zX39z6Md81Y",
        "outputId": "21253aa6-01f2-4fd9-da86-4daa2d9c05c3"
      },
      "execution_count": 11,
      "outputs": [
        {
          "output_type": "stream",
          "name": "stdout",
          "text": [
            "Al menos una de las condiciones es verdadera\n"
          ]
        }
      ]
    },
    {
      "cell_type": "markdown",
      "source": [
        "La conjuncion o disyuncion que este al final tienen mayor peso, python lee de derecha a izquierda"
      ],
      "metadata": {
        "id": "lrNQ1W5pfw2m"
      }
    },
    {
      "cell_type": "code",
      "source": [
        "a = 33\n",
        "b = 200\n",
        "if not a > b\n",
        "  print(\"a no es mayor que b\")"
      ],
      "metadata": {
        "colab": {
          "base_uri": "https://localhost:8080/"
        },
        "id": "el7gsURbf7h-",
        "outputId": "ff5304bb-6f6b-47d1-9f9a-95378bcfe0c4"
      },
      "execution_count": 14,
      "outputs": [
        {
          "output_type": "stream",
          "name": "stdout",
          "text": [
            "a no es mayor que b\n"
          ]
        }
      ]
    },
    {
      "cell_type": "code",
      "source": [
        "import math\n",
        "x = 6\n",
        "\n",
        "if x % 2 == 0:\n",
        "  print(\"x es par\\n\")\n",
        "  index=math.log2(x)-int(math.log2(x))\n",
        "  if index==0.0:\n",
        "    pow:int(math.log2(x))\n",
        "    print(\"La potencia de x es \"+str(pow))\n",
        "  else:\n",
        "    print(\"No es potencia de 2\")\n",
        "else:\n",
        "  print(\"x es impar el cuadrado de x es\"+str(x**2))"
      ],
      "metadata": {
        "colab": {
          "base_uri": "https://localhost:8080/"
        },
        "id": "eHz0HpmCg-yu",
        "outputId": "756d6bea-e55a-4e59-9bfa-a29bebf34be8"
      },
      "execution_count": 22,
      "outputs": [
        {
          "output_type": "stream",
          "name": "stdout",
          "text": [
            "x es par\n",
            "\n",
            "No es potencia de 2\n"
          ]
        }
      ]
    },
    {
      "cell_type": "markdown",
      "source": [
        "Apuntes [While y For](https://github.com/seismomat/HerramientasComputacionales/blob/main/NivelBasico/FundamentosDeProgramacion/Bucles%20while%20y%20for.ipynb)"
      ],
      "metadata": {
        "id": "l4yYBlkdpSDe"
      }
    },
    {
      "cell_type": "code",
      "source": [
        "cuentas = 0\n",
        "while cuentas < 6:\n",
        "  print(cuentas)\n",
        "  cuentas = cuentas + 1"
      ],
      "metadata": {
        "colab": {
          "base_uri": "https://localhost:8080/"
        },
        "id": "HJ7RD5tEpeSW",
        "outputId": "8cb497d3-0270-48fc-e395-0ca08414f150"
      },
      "execution_count": 24,
      "outputs": [
        {
          "output_type": "stream",
          "name": "stdout",
          "text": [
            "0\n",
            "1\n",
            "2\n",
            "3\n",
            "4\n",
            "5\n"
          ]
        }
      ]
    },
    {
      "cell_type": "code",
      "source": [
        "x = 0\n",
        "while not x==5:\n",
        "    x = x + 1\n",
        "    print(\"x = %d\" % x)"
      ],
      "metadata": {
        "colab": {
          "base_uri": "https://localhost:8080/"
        },
        "id": "MD-Hl8tEqHEc",
        "outputId": "4a15af8b-70a9-47d3-8a0b-7a6395c7ad3c"
      },
      "execution_count": 27,
      "outputs": [
        {
          "output_type": "stream",
          "name": "stdout",
          "text": [
            "x = 1\n",
            "x = 2\n",
            "x = 3\n",
            "x = 4\n",
            "x = 5\n"
          ]
        }
      ]
    }
  ]
}