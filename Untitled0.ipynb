{
  "nbformat": 4,
  "nbformat_minor": 0,
  "metadata": {
    "colab": {
      "provenance": [],
      "authorship_tag": "ABX9TyPcPmZpm+CkpAcO1aqx5dZk",
      "include_colab_link": true
    },
    "kernelspec": {
      "name": "python3",
      "display_name": "Python 3"
    },
    "language_info": {
      "name": "python"
    }
  },
  "cells": [
    {
      "cell_type": "markdown",
      "metadata": {
        "id": "view-in-github",
        "colab_type": "text"
      },
      "source": [
        "<a href=\"https://colab.research.google.com/github/SaulPichardo/python_THC/blob/main/Untitled0.ipynb\" target=\"_parent\"><img src=\"https://colab.research.google.com/assets/colab-badge.svg\" alt=\"Open In Colab\"/></a>"
      ]
    },
    {
      "cell_type": "code",
      "execution_count": 11,
      "metadata": {
        "id": "xA33910Msmtz",
        "colab": {
          "base_uri": "https://localhost:8080/"
        },
        "outputId": "cbd15cf9-b681-4287-aad9-1da9d78710cb"
      },
      "outputs": [
        {
          "output_type": "stream",
          "name": "stdout",
          "text": [
            "15 saul\n",
            "hola mundo\n",
            "Este es el primer programa en python\n",
            "11.5\n"
          ]
        }
      ],
      "source": [
        "\n",
        "x=15 #variable del tipo entero\n",
        "y='saul'#variable del tipo cadena\n",
        "print(x,y)# el comando print muestra en pantalla el resultado de mi operacion\n",
        "\n",
        "z='hola mundo'\n",
        "print(z)\n",
        "\n",
        "xy='Este es el primer programa en python'\n",
        "print(xy)\n",
        "\n",
        "\n",
        "a=6 #variable tipo flotante\n",
        "b=5.5\n",
        "suma=a+b\n",
        "print(suma)"
      ]
    },
    {
      "cell_type": "code",
      "source": [],
      "metadata": {
        "id": "9Qnvpz1kxQK_"
      },
      "execution_count": null,
      "outputs": []
    }
  ]
}